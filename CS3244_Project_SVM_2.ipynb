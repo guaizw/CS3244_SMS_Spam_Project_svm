{
 "cells": [
  {
   "cell_type": "code",
   "execution_count": 4,
   "metadata": {},
   "outputs": [],
   "source": [
    "import numpy as np\n",
    "import pandas as pd\n",
    "import matplotlib.pyplot as plt\n",
    "from collections import Counter\n",
    "from sklearn import svm, feature_extraction,model_selection,metrics,linear_model\n",
    "import time as time"
   ]
  },
  {
   "cell_type": "code",
   "execution_count": 5,
   "metadata": {},
   "outputs": [],
   "source": [
    "spam_df = pd.read_csv('spam.csv',encoding='latin-1')"
   ]
  },
  {
   "cell_type": "code",
   "execution_count": 6,
   "metadata": {},
   "outputs": [
    {
     "data": {
      "text/html": [
       "<div>\n",
       "<style>\n",
       "    .dataframe thead tr:only-child th {\n",
       "        text-align: right;\n",
       "    }\n",
       "\n",
       "    .dataframe thead th {\n",
       "        text-align: left;\n",
       "    }\n",
       "\n",
       "    .dataframe tbody tr th {\n",
       "        vertical-align: top;\n",
       "    }\n",
       "</style>\n",
       "<table border=\"1\" class=\"dataframe\">\n",
       "  <thead>\n",
       "    <tr style=\"text-align: right;\">\n",
       "      <th></th>\n",
       "      <th>v1</th>\n",
       "      <th>v2</th>\n",
       "    </tr>\n",
       "  </thead>\n",
       "  <tbody>\n",
       "    <tr>\n",
       "      <th>0</th>\n",
       "      <td>ham</td>\n",
       "      <td>Go until jurong point, crazy.. Available only ...</td>\n",
       "    </tr>\n",
       "    <tr>\n",
       "      <th>1</th>\n",
       "      <td>ham</td>\n",
       "      <td>Ok lar... Joking wif u oni...</td>\n",
       "    </tr>\n",
       "    <tr>\n",
       "      <th>2</th>\n",
       "      <td>spam</td>\n",
       "      <td>Free entry in 2 a wkly comp to win FA Cup fina...</td>\n",
       "    </tr>\n",
       "    <tr>\n",
       "      <th>3</th>\n",
       "      <td>ham</td>\n",
       "      <td>U dun say so early hor... U c already then say...</td>\n",
       "    </tr>\n",
       "    <tr>\n",
       "      <th>4</th>\n",
       "      <td>ham</td>\n",
       "      <td>Nah I don't think he goes to usf, he lives aro...</td>\n",
       "    </tr>\n",
       "  </tbody>\n",
       "</table>\n",
       "</div>"
      ],
      "text/plain": [
       "     v1                                                 v2\n",
       "0   ham  Go until jurong point, crazy.. Available only ...\n",
       "1   ham                      Ok lar... Joking wif u oni...\n",
       "2  spam  Free entry in 2 a wkly comp to win FA Cup fina...\n",
       "3   ham  U dun say so early hor... U c already then say...\n",
       "4   ham  Nah I don't think he goes to usf, he lives aro..."
      ]
     },
     "execution_count": 6,
     "metadata": {},
     "output_type": "execute_result"
    }
   ],
   "source": [
    "spam_df.head(5)\n",
    "#Need to rename columns, remove last 3 rows\n",
    "spam_df=spam_df.iloc[:,0:2]\n",
    "spam_df.head(5)"
   ]
  },
  {
   "cell_type": "code",
   "execution_count": 7,
   "metadata": {},
   "outputs": [],
   "source": [
    "spam_df.columns=['class','message']"
   ]
  },
  {
   "cell_type": "code",
   "execution_count": 8,
   "metadata": {},
   "outputs": [
    {
     "data": {
      "text/html": [
       "<div>\n",
       "<style>\n",
       "    .dataframe thead tr:only-child th {\n",
       "        text-align: right;\n",
       "    }\n",
       "\n",
       "    .dataframe thead th {\n",
       "        text-align: left;\n",
       "    }\n",
       "\n",
       "    .dataframe tbody tr th {\n",
       "        vertical-align: top;\n",
       "    }\n",
       "</style>\n",
       "<table border=\"1\" class=\"dataframe\">\n",
       "  <thead>\n",
       "    <tr style=\"text-align: right;\">\n",
       "      <th></th>\n",
       "      <th>class</th>\n",
       "      <th>message</th>\n",
       "    </tr>\n",
       "  </thead>\n",
       "  <tbody>\n",
       "    <tr>\n",
       "      <th>0</th>\n",
       "      <td>ham</td>\n",
       "      <td>Go until jurong point, crazy.. Available only ...</td>\n",
       "    </tr>\n",
       "    <tr>\n",
       "      <th>1</th>\n",
       "      <td>ham</td>\n",
       "      <td>Ok lar... Joking wif u oni...</td>\n",
       "    </tr>\n",
       "    <tr>\n",
       "      <th>2</th>\n",
       "      <td>spam</td>\n",
       "      <td>Free entry in 2 a wkly comp to win FA Cup fina...</td>\n",
       "    </tr>\n",
       "    <tr>\n",
       "      <th>3</th>\n",
       "      <td>ham</td>\n",
       "      <td>U dun say so early hor... U c already then say...</td>\n",
       "    </tr>\n",
       "    <tr>\n",
       "      <th>4</th>\n",
       "      <td>ham</td>\n",
       "      <td>Nah I don't think he goes to usf, he lives aro...</td>\n",
       "    </tr>\n",
       "  </tbody>\n",
       "</table>\n",
       "</div>"
      ],
      "text/plain": [
       "  class                                            message\n",
       "0   ham  Go until jurong point, crazy.. Available only ...\n",
       "1   ham                      Ok lar... Joking wif u oni...\n",
       "2  spam  Free entry in 2 a wkly comp to win FA Cup fina...\n",
       "3   ham  U dun say so early hor... U c already then say...\n",
       "4   ham  Nah I don't think he goes to usf, he lives aro..."
      ]
     },
     "execution_count": 8,
     "metadata": {},
     "output_type": "execute_result"
    }
   ],
   "source": [
    "spam_df.head(5)"
   ]
  },
  {
   "cell_type": "code",
   "execution_count": 9,
   "metadata": {},
   "outputs": [
    {
     "data": {
      "text/plain": [
       "(5572, 8404)"
      ]
     },
     "execution_count": 9,
     "metadata": {},
     "output_type": "execute_result"
    }
   ],
   "source": [
    "f = feature_extraction.text.CountVectorizer(stop_words = 'english')\n",
    "X = f.fit_transform(spam_df[\"message\"])\n",
    "np.shape(X)"
   ]
  },
  {
   "cell_type": "code",
   "execution_count": 10,
   "metadata": {},
   "outputs": [],
   "source": [
    "spam_df[\"class\"]=spam_df[\"class\"].map({'spam':1,'ham':0})\n",
    "X_train, X_test, y_train, y_test = model_selection.train_test_split(X, spam_df[\"class\"], test_size=0.25, random_state=20)"
   ]
  },
  {
   "cell_type": "code",
   "execution_count": 11,
   "metadata": {},
   "outputs": [],
   "source": [
    "# Fit SVM\n",
    "list_C = np.arange(500, 2000, 100) #100000\n",
    "score_train = np.zeros(len(list_C)) #Larger C= Lower Misclass but smaller margin\n",
    "score_test = np.zeros(len(list_C))\n",
    "recall_test = np.zeros(len(list_C))\n",
    "precision_test= np.zeros(len(list_C))\n",
    "count = 0\n",
    "for C in list_C:\n",
    "    svc = svm.SVC(C=C)\n",
    "    svc.fit(X_train, y_train)\n",
    "    score_train[count] = svc.score(X_train, y_train)\n",
    "    score_test[count]= svc.score(X_test, y_test)\n",
    "    recall_test[count] = metrics.recall_score(y_test, svc.predict(X_test))\n",
    "    precision_test[count] = metrics.precision_score(y_test, svc.predict(X_test))\n",
    "    count = count + 1 "
   ]
  },
  {
   "cell_type": "code",
   "execution_count": 12,
   "metadata": {},
   "outputs": [
    {
     "data": {
      "text/html": [
       "<div>\n",
       "<style>\n",
       "    .dataframe thead tr:only-child th {\n",
       "        text-align: right;\n",
       "    }\n",
       "\n",
       "    .dataframe thead th {\n",
       "        text-align: left;\n",
       "    }\n",
       "\n",
       "    .dataframe tbody tr th {\n",
       "        vertical-align: top;\n",
       "    }\n",
       "</style>\n",
       "<table border=\"1\" class=\"dataframe\">\n",
       "  <thead>\n",
       "    <tr style=\"text-align: right;\">\n",
       "      <th></th>\n",
       "      <th>C</th>\n",
       "      <th>Train Accuracy</th>\n",
       "      <th>Test Accuracy</th>\n",
       "      <th>Test Recall</th>\n",
       "      <th>Test Precision</th>\n",
       "    </tr>\n",
       "  </thead>\n",
       "  <tbody>\n",
       "    <tr>\n",
       "      <th>0</th>\n",
       "      <td>500.0</td>\n",
       "      <td>0.994018</td>\n",
       "      <td>0.979899</td>\n",
       "      <td>0.862434</td>\n",
       "      <td>0.987879</td>\n",
       "    </tr>\n",
       "    <tr>\n",
       "      <th>1</th>\n",
       "      <td>600.0</td>\n",
       "      <td>0.995453</td>\n",
       "      <td>0.981335</td>\n",
       "      <td>0.873016</td>\n",
       "      <td>0.988024</td>\n",
       "    </tr>\n",
       "    <tr>\n",
       "      <th>2</th>\n",
       "      <td>700.0</td>\n",
       "      <td>0.996171</td>\n",
       "      <td>0.981335</td>\n",
       "      <td>0.873016</td>\n",
       "      <td>0.988024</td>\n",
       "    </tr>\n",
       "    <tr>\n",
       "      <th>3</th>\n",
       "      <td>800.0</td>\n",
       "      <td>0.996650</td>\n",
       "      <td>0.982053</td>\n",
       "      <td>0.878307</td>\n",
       "      <td>0.988095</td>\n",
       "    </tr>\n",
       "    <tr>\n",
       "      <th>4</th>\n",
       "      <td>900.0</td>\n",
       "      <td>0.997128</td>\n",
       "      <td>0.981335</td>\n",
       "      <td>0.873016</td>\n",
       "      <td>0.988024</td>\n",
       "    </tr>\n",
       "    <tr>\n",
       "      <th>5</th>\n",
       "      <td>1000.0</td>\n",
       "      <td>0.997128</td>\n",
       "      <td>0.980617</td>\n",
       "      <td>0.867725</td>\n",
       "      <td>0.987952</td>\n",
       "    </tr>\n",
       "    <tr>\n",
       "      <th>6</th>\n",
       "      <td>1100.0</td>\n",
       "      <td>0.998086</td>\n",
       "      <td>0.981335</td>\n",
       "      <td>0.873016</td>\n",
       "      <td>0.988024</td>\n",
       "    </tr>\n",
       "    <tr>\n",
       "      <th>7</th>\n",
       "      <td>1200.0</td>\n",
       "      <td>0.998325</td>\n",
       "      <td>0.981335</td>\n",
       "      <td>0.873016</td>\n",
       "      <td>0.988024</td>\n",
       "    </tr>\n",
       "    <tr>\n",
       "      <th>8</th>\n",
       "      <td>1300.0</td>\n",
       "      <td>0.999282</td>\n",
       "      <td>0.981335</td>\n",
       "      <td>0.873016</td>\n",
       "      <td>0.988024</td>\n",
       "    </tr>\n",
       "    <tr>\n",
       "      <th>9</th>\n",
       "      <td>1400.0</td>\n",
       "      <td>0.999282</td>\n",
       "      <td>0.981335</td>\n",
       "      <td>0.873016</td>\n",
       "      <td>0.988024</td>\n",
       "    </tr>\n",
       "  </tbody>\n",
       "</table>\n",
       "</div>"
      ],
      "text/plain": [
       "        C  Train Accuracy  Test Accuracy  Test Recall  Test Precision\n",
       "0   500.0        0.994018       0.979899     0.862434        0.987879\n",
       "1   600.0        0.995453       0.981335     0.873016        0.988024\n",
       "2   700.0        0.996171       0.981335     0.873016        0.988024\n",
       "3   800.0        0.996650       0.982053     0.878307        0.988095\n",
       "4   900.0        0.997128       0.981335     0.873016        0.988024\n",
       "5  1000.0        0.997128       0.980617     0.867725        0.987952\n",
       "6  1100.0        0.998086       0.981335     0.873016        0.988024\n",
       "7  1200.0        0.998325       0.981335     0.873016        0.988024\n",
       "8  1300.0        0.999282       0.981335     0.873016        0.988024\n",
       "9  1400.0        0.999282       0.981335     0.873016        0.988024"
      ]
     },
     "execution_count": 12,
     "metadata": {},
     "output_type": "execute_result"
    }
   ],
   "source": [
    "matrix = np.matrix(np.c_[list_C, score_train, score_test, recall_test, precision_test])\n",
    "models = pd.DataFrame(data = matrix, columns = \n",
    "             ['C', 'Train Accuracy', 'Test Accuracy', 'Test Recall', 'Test Precision'])\n",
    "models.head(n=10)"
   ]
  },
  {
   "cell_type": "markdown",
   "metadata": {},
   "source": [
    "The algorithm for svm active learning uses uncertainty sampling (concept relies on the idea behind svm).\n",
    "\n",
    "   a) With labelled data: choose samples $x = argmin_{x} |f(x)|$\n",
    "   \n",
    "   b) Unlabelled data: $x = argmax_x 0.5[max(0,1-f(x))+max(0,1+f(x)]$. This formula provides maximum error. For the project, this is not used since we do not have unlabelled data. (Possible discussion point)\n"
   ]
  },
  {
   "cell_type": "code",
   "execution_count": 13,
   "metadata": {},
   "outputs": [],
   "source": [
    "# Just taking advantage of train test split, note that test size=0.75 is intentional. \n",
    "# We will train on small test set initially, then actively learn if necessary\n",
    "np.random.seed(13)\n",
    "X_train, X_test, y_train, y_test = model_selection.train_test_split(spam_df[\"message\"], np.array(spam_df[\"class\"]), test_size=0.25, random_state=20)\n",
    "X_train2, X_test2, y_train2, y_test2 = model_selection.train_test_split(X_train, y_train, test_size=0.75, random_state=20)\n",
    "#Doing 2 train splits. First split seperates test data. Second split seperates train data"
   ]
  },
  {
   "cell_type": "markdown",
   "metadata": {},
   "source": [
    "We will build a few basic models below to try and test the idea."
   ]
  },
  {
   "cell_type": "code",
   "execution_count": 14,
   "metadata": {},
   "outputs": [],
   "source": [
    "f = feature_extraction.text.CountVectorizer(stop_words = 'english')\n",
    "vocab_dict = f.fit(X_train2)\n",
    "X_train2 = f.transform(X_train2)  #small start data for training\n",
    "X_test2 = f.transform(X_test2)    #rest of train data\n",
    "X_test = f.transform(X_test)      #the real test data"
   ]
  },
  {
   "cell_type": "code",
   "execution_count": 15,
   "metadata": {},
   "outputs": [],
   "source": [
    "# Helper Functions\n",
    "def closest_to_centre(X_arr,model):\n",
    "    \"\"\"\n",
    "    Input: X_array of batch\n",
    "    Output: index/indices of row of batch closest to centre. -1 if there is no such index\n",
    "    \"\"\"\n",
    "    values = model.decision_function(X_arr)\n",
    "    index = np.where((values>-1)&(values<1)) #if its outside of range, it will be properly classified\n",
    "    if np.array(index).size==0:\n",
    "        return np.array([])\n",
    "    which_minAbs = np.where(np.abs(values[index])==np.min(np.abs(values[index])))\n",
    "    return index[0][which_minAbs]\n",
    "\n",
    "def active_learn(X_arr,y_arr,closest_index,model):\n",
    "    \"\"\"\n",
    "    Input: X_array of batch, index of closest coordinates, model\n",
    "    Output: Return the model after doing partial fitting\n",
    "    \"\"\"\n",
    "    close = closest_index\n",
    "    if (close.size==0):\n",
    "        return model #Do nothing. model classifies well\n",
    "    else:\n",
    "        X_tofit = X_arr[close]\n",
    "        y_tofit = y_arr[close]\n",
    "        model.partial_fit(X_tofit,y_tofit)\n",
    "        return model\n",
    "\n",
    "def batch_learn(X_test2,y_test2,model,batch_size):\n",
    "    \"\"\"\n",
    "    Input: X_array of the rest of the full train data\n",
    "    Output: Model after training w/ active learning. Some count on how much data was used.\n",
    "    \"\"\"\n",
    "    count = 0\n",
    "    rows_used = 0\n",
    "    time_start = time.time()\n",
    "    while (count<X_test2.shape[0]):\n",
    "        tail = np.min([X_test2.shape[0],count+batch_size])\n",
    "        X_arr = X_test2[count:tail]\n",
    "        y_arr = y_test2[count:tail]\n",
    "        closest_index = closest_to_centre(X_arr,model)\n",
    "        model = active_learn(X_arr,y_arr,closest_index,model)\n",
    "        rows_used+=closest_index.size\n",
    "        count += batch_size\n",
    "    time_end = time.time()\n",
    "    time_taken = time_end-time_start\n",
    "    return model,rows_used,time_taken"
   ]
  },
  {
   "cell_type": "code",
   "execution_count": 16,
   "metadata": {},
   "outputs": [
    {
     "data": {
      "text/plain": [
       "SGDClassifier(alpha=0.0001, average=False, class_weight=None, epsilon=0.1,\n",
       "       eta0=0.0, fit_intercept=True, l1_ratio=0.15,\n",
       "       learning_rate='optimal', loss='hinge', max_iter=5, n_iter=None,\n",
       "       n_jobs=1, penalty='l2', power_t=0.5, random_state=None,\n",
       "       shuffle=True, tol=None, verbose=0, warm_start=False)"
      ]
     },
     "execution_count": 16,
     "metadata": {},
     "output_type": "execute_result"
    }
   ],
   "source": [
    "test_svm = linear_model.SGDClassifier(loss=\"hinge\",penalty=\"l2\",max_iter=5) #this creates a linear SVM.\n",
    "test_svm.fit(X_train2,y_train2)"
   ]
  },
  {
   "cell_type": "code",
   "execution_count": 17,
   "metadata": {},
   "outputs": [],
   "source": [
    "# For the base test, we use the rest of the train data to check if accuracy deteoriates.\n",
    "# Note that we will have much less parameters\n",
    "# Since we started training on 25% of train data\n",
    "test_svm2=active_learn(X_test2,y_test2,closest_to_centre(X_test2,test_svm),test_svm)"
   ]
  },
  {
   "cell_type": "code",
   "execution_count": 18,
   "metadata": {},
   "outputs": [
    {
     "name": "stdout",
     "output_type": "stream",
     "text": [
      "0.975119617225\n",
      "0.974874371859\n"
     ]
    }
   ],
   "source": [
    "print(test_svm2.score(X_test2,y_test2)) #the svm works and produces a good accuracy on the rest of train set\n",
    "print(test_svm2.score(X_test,y_test))  #svm works and has good accuracy on the true test set."
   ]
  },
  {
   "cell_type": "code",
   "execution_count": 19,
   "metadata": {},
   "outputs": [],
   "source": [
    "test_svm = linear_model.SGDClassifier(loss=\"hinge\",penalty=\"l2\",max_iter=1) #this creates a linear SVM. Go over data just once\n",
    "test_svm.fit(X_train2,y_train2)\n",
    "test_svm2,r,t=batch_learn(X_test2,y_test2,test_svm,10)"
   ]
  },
  {
   "cell_type": "code",
   "execution_count": 20,
   "metadata": {},
   "outputs": [
    {
     "name": "stdout",
     "output_type": "stream",
     "text": [
      "0.931100478469\n",
      "0.937544867193\n",
      "0.04590272903442383\n",
      "1044\n",
      "4179\n"
     ]
    }
   ],
   "source": [
    "print(test_svm2.score(X_test2,y_test2)) #the svm works and produces a good accuracy on the rest of train set\n",
    "print(test_svm2.score(X_test,y_test))  #svm works and has good accuracy on the true test set.\n",
    "print(t)\n",
    "print(r+ X_train2.shape[0])\n",
    "print(X_train2.shape[0]+X_test2.shape[0])\n",
    "# We used about 26% of the training data for fitting while maintaining decent accuracy on the test set. \n",
    "# Raising iterations increases accuracy."
   ]
  },
  {
   "cell_type": "markdown",
   "metadata": {},
   "source": [
    "Put it all together below:"
   ]
  },
  {
   "cell_type": "code",
   "execution_count": 21,
   "metadata": {},
   "outputs": [],
   "source": [
    "test_size = np.arange(0.5,0.95,0.05)\n",
    "count = 0\n",
    "time_vect = np.zeros(len(test_size))\n",
    "rows_vect = np.zeros(len(test_size))\n",
    "score_train = np.zeros(len(test_size))\n",
    "score_test = np.zeros(len(test_size))\n",
    "recall_test = np.zeros(len(test_size))\n",
    "precision_test = np.zeros(len(test_size))\n",
    "for test in test_size:\n",
    "    X_train, X_test, y_train, y_test = model_selection.train_test_split(spam_df[\"message\"],\n",
    "                                                                        np.array(spam_df[\"class\"]),\n",
    "                                                                        test_size=0.25, random_state= 15)\n",
    "    X_train2, X_test2, y_train2, y_test2 = model_selection.train_test_split(X_train, y_train, test_size=test, random_state=15)\n",
    "    f = feature_extraction.text.CountVectorizer(stop_words = 'english')\n",
    "    vocab_dict = f.fit(X_train2)\n",
    "    X_train2 = f.transform(X_train2)  \n",
    "    X_test2 = f.transform(X_test2)    \n",
    "    X_test = f.transform(X_test)      \n",
    "    base_svm = linear_model.SGDClassifier(loss=\"hinge\",penalty=\"l2\",max_iter=1) \n",
    "    base_svm.fit(X_train2,y_train2)\n",
    "    final_svm,r,t = batch_learn(X_test2,y_test2,base_svm,10)\n",
    "    time_vect[count]=t\n",
    "    rows_vect[count]=r\n",
    "    score_train[count]= final_svm.score(X_test2,y_test2)\n",
    "    score_test[count] = final_svm.score(X_test,y_test)\n",
    "    recall_test[count] = metrics.recall_score(y_test, final_svm.predict(X_test))\n",
    "    precision_test[count] = metrics.precision_score(y_test, final_svm.predict(X_test))\n",
    "    count = count + 1 "
   ]
  },
  {
   "cell_type": "code",
   "execution_count": 22,
   "metadata": {},
   "outputs": [
    {
     "data": {
      "text/html": [
       "<div>\n",
       "<style>\n",
       "    .dataframe thead tr:only-child th {\n",
       "        text-align: right;\n",
       "    }\n",
       "\n",
       "    .dataframe thead th {\n",
       "        text-align: left;\n",
       "    }\n",
       "\n",
       "    .dataframe tbody tr th {\n",
       "        vertical-align: top;\n",
       "    }\n",
       "</style>\n",
       "<table border=\"1\" class=\"dataframe\">\n",
       "  <thead>\n",
       "    <tr style=\"text-align: right;\">\n",
       "      <th></th>\n",
       "      <th>Train_size</th>\n",
       "      <th>Time</th>\n",
       "      <th>Active Learned Data</th>\n",
       "      <th>Train Accuracy</th>\n",
       "      <th>Test Accuracy</th>\n",
       "      <th>Test Recall</th>\n",
       "      <th>Test Precision</th>\n",
       "    </tr>\n",
       "  </thead>\n",
       "  <tbody>\n",
       "    <tr>\n",
       "      <th>0</th>\n",
       "      <td>0.50</td>\n",
       "      <td>0.035902</td>\n",
       "      <td>26.0</td>\n",
       "      <td>0.968421</td>\n",
       "      <td>0.965542</td>\n",
       "      <td>0.827381</td>\n",
       "      <td>0.879747</td>\n",
       "    </tr>\n",
       "    <tr>\n",
       "      <th>1</th>\n",
       "      <td>0.45</td>\n",
       "      <td>0.046875</td>\n",
       "      <td>45.0</td>\n",
       "      <td>0.976512</td>\n",
       "      <td>0.967696</td>\n",
       "      <td>0.791667</td>\n",
       "      <td>0.930070</td>\n",
       "    </tr>\n",
       "    <tr>\n",
       "      <th>2</th>\n",
       "      <td>0.40</td>\n",
       "      <td>0.047881</td>\n",
       "      <td>40.0</td>\n",
       "      <td>0.973684</td>\n",
       "      <td>0.965542</td>\n",
       "      <td>0.821429</td>\n",
       "      <td>0.884615</td>\n",
       "    </tr>\n",
       "    <tr>\n",
       "      <th>3</th>\n",
       "      <td>0.35</td>\n",
       "      <td>0.055843</td>\n",
       "      <td>54.0</td>\n",
       "      <td>0.974972</td>\n",
       "      <td>0.964106</td>\n",
       "      <td>0.851190</td>\n",
       "      <td>0.851190</td>\n",
       "    </tr>\n",
       "    <tr>\n",
       "      <th>4</th>\n",
       "      <td>0.30</td>\n",
       "      <td>0.029915</td>\n",
       "      <td>0.0</td>\n",
       "      <td>0.919002</td>\n",
       "      <td>0.909548</td>\n",
       "      <td>0.898810</td>\n",
       "      <td>0.580769</td>\n",
       "    </tr>\n",
       "    <tr>\n",
       "      <th>5</th>\n",
       "      <td>0.25</td>\n",
       "      <td>0.032945</td>\n",
       "      <td>0.0</td>\n",
       "      <td>0.945136</td>\n",
       "      <td>0.934673</td>\n",
       "      <td>0.791667</td>\n",
       "      <td>0.703704</td>\n",
       "    </tr>\n",
       "    <tr>\n",
       "      <th>6</th>\n",
       "      <td>0.20</td>\n",
       "      <td>0.036898</td>\n",
       "      <td>0.0</td>\n",
       "      <td>0.952751</td>\n",
       "      <td>0.941134</td>\n",
       "      <td>0.839286</td>\n",
       "      <td>0.719388</td>\n",
       "    </tr>\n",
       "    <tr>\n",
       "      <th>7</th>\n",
       "      <td>0.15</td>\n",
       "      <td>0.036902</td>\n",
       "      <td>0.0</td>\n",
       "      <td>0.951590</td>\n",
       "      <td>0.949031</td>\n",
       "      <td>0.791667</td>\n",
       "      <td>0.786982</td>\n",
       "    </tr>\n",
       "    <tr>\n",
       "      <th>8</th>\n",
       "      <td>0.10</td>\n",
       "      <td>0.040894</td>\n",
       "      <td>0.0</td>\n",
       "      <td>0.944444</td>\n",
       "      <td>0.941134</td>\n",
       "      <td>0.845238</td>\n",
       "      <td>0.717172</td>\n",
       "    </tr>\n",
       "  </tbody>\n",
       "</table>\n",
       "</div>"
      ],
      "text/plain": [
       "   Train_size      Time  Active Learned Data  Train Accuracy  Test Accuracy  \\\n",
       "0        0.50  0.035902                 26.0        0.968421       0.965542   \n",
       "1        0.45  0.046875                 45.0        0.976512       0.967696   \n",
       "2        0.40  0.047881                 40.0        0.973684       0.965542   \n",
       "3        0.35  0.055843                 54.0        0.974972       0.964106   \n",
       "4        0.30  0.029915                  0.0        0.919002       0.909548   \n",
       "5        0.25  0.032945                  0.0        0.945136       0.934673   \n",
       "6        0.20  0.036898                  0.0        0.952751       0.941134   \n",
       "7        0.15  0.036902                  0.0        0.951590       0.949031   \n",
       "8        0.10  0.040894                  0.0        0.944444       0.941134   \n",
       "\n",
       "   Test Recall  Test Precision  \n",
       "0     0.827381        0.879747  \n",
       "1     0.791667        0.930070  \n",
       "2     0.821429        0.884615  \n",
       "3     0.851190        0.851190  \n",
       "4     0.898810        0.580769  \n",
       "5     0.791667        0.703704  \n",
       "6     0.839286        0.719388  \n",
       "7     0.791667        0.786982  \n",
       "8     0.845238        0.717172  "
      ]
     },
     "execution_count": 22,
     "metadata": {},
     "output_type": "execute_result"
    }
   ],
   "source": [
    "matrix = np.matrix(np.c_[1-(test_size), time_vect,rows_vect, score_train, score_test, recall_test, precision_test])\n",
    "models = pd.DataFrame(data = matrix, columns = \n",
    "             ['Train_size','Time','Active Learned Data','Train Accuracy', 'Test Accuracy', 'Test Recall', 'Test Precision'])\n",
    "models.head(n=10)"
   ]
  },
  {
   "cell_type": "markdown",
   "metadata": {},
   "source": [
    "The train size refers to percentage of train data fit into the model before active learning.\n",
    "We can see that the best train size seems to be about 0.35. As the train size decreases, the parameters of the model decrease as well. As a result, we observe that when the train size becomes too small, our precision suffers greatly since the model is as good as guessing which is spam and which is not. Less parameters also means less active learning due to the lower descriptive power of the svm.\n",
    "\n",
    "For the models run above, the batch size used was fixed at 10. We will tune the batch size below while fixing train size at 0.35."
   ]
  },
  {
   "cell_type": "code",
   "execution_count": 23,
   "metadata": {},
   "outputs": [],
   "source": [
    "batch_size = np.arange(5,100,5)\n",
    "count = 0\n",
    "time_vect = np.zeros(len(batch_size))\n",
    "rows_vect = np.zeros(len(batch_size))\n",
    "score_train = np.zeros(len(batch_size))\n",
    "score_test = np.zeros(len(batch_size))\n",
    "recall_test = np.zeros(len(batch_size))\n",
    "precision_test = np.zeros(len(batch_size))\n",
    "\n",
    "for batch in batch_size:\n",
    "    X_train, X_test, y_train, y_test = model_selection.train_test_split(spam_df[\"message\"],\n",
    "                                                                        np.array(spam_df[\"class\"]),\n",
    "                                                                        test_size=0.25, random_state= 15)\n",
    "    X_train2, X_test2, y_train2, y_test2 = model_selection.train_test_split(X_train, y_train, test_size=0.65, random_state=15)\n",
    "    f = feature_extraction.text.CountVectorizer(stop_words = 'english')\n",
    "    vocab_dict = f.fit(X_train2)\n",
    "    X_train2 = f.transform(X_train2)  \n",
    "    X_test2 = f.transform(X_test2)    \n",
    "    X_test = f.transform(X_test)      \n",
    "    base_svm = linear_model.SGDClassifier(loss=\"hinge\",penalty=\"l2\",max_iter=1) \n",
    "    base_svm.fit(X_train2,y_train2)\n",
    "    final_svm,r,t = batch_learn(X_test2,y_test2,base_svm,batch)\n",
    "    time_vect[count]=t\n",
    "    rows_vect[count]=r\n",
    "    score_train[count]= final_svm.score(X_test2,y_test2)\n",
    "    score_test[count] = final_svm.score(X_test,y_test)\n",
    "    recall_test[count] = metrics.recall_score(y_test, final_svm.predict(X_test))\n",
    "    precision_test[count] = metrics.precision_score(y_test, final_svm.predict(X_test))\n",
    "    count = count + 1 "
   ]
  },
  {
   "cell_type": "code",
   "execution_count": 24,
   "metadata": {},
   "outputs": [
    {
     "data": {
      "text/html": [
       "<div>\n",
       "<style>\n",
       "    .dataframe thead tr:only-child th {\n",
       "        text-align: right;\n",
       "    }\n",
       "\n",
       "    .dataframe thead th {\n",
       "        text-align: left;\n",
       "    }\n",
       "\n",
       "    .dataframe tbody tr th {\n",
       "        vertical-align: top;\n",
       "    }\n",
       "</style>\n",
       "<table border=\"1\" class=\"dataframe\">\n",
       "  <thead>\n",
       "    <tr style=\"text-align: right;\">\n",
       "      <th></th>\n",
       "      <th>Batch_size</th>\n",
       "      <th>Time</th>\n",
       "      <th>Active Learned Data</th>\n",
       "      <th>Train Accuracy</th>\n",
       "      <th>Test Accuracy</th>\n",
       "      <th>Test Recall</th>\n",
       "      <th>Test Precision</th>\n",
       "    </tr>\n",
       "  </thead>\n",
       "  <tbody>\n",
       "    <tr>\n",
       "      <th>0</th>\n",
       "      <td>5.0</td>\n",
       "      <td>0.086764</td>\n",
       "      <td>59.0</td>\n",
       "      <td>0.974604</td>\n",
       "      <td>0.964824</td>\n",
       "      <td>0.761905</td>\n",
       "      <td>0.934307</td>\n",
       "    </tr>\n",
       "    <tr>\n",
       "      <th>1</th>\n",
       "      <td>10.0</td>\n",
       "      <td>0.058837</td>\n",
       "      <td>66.0</td>\n",
       "      <td>0.976813</td>\n",
       "      <td>0.961953</td>\n",
       "      <td>0.821429</td>\n",
       "      <td>0.857143</td>\n",
       "    </tr>\n",
       "    <tr>\n",
       "      <th>2</th>\n",
       "      <td>15.0</td>\n",
       "      <td>0.023918</td>\n",
       "      <td>0.0</td>\n",
       "      <td>0.939271</td>\n",
       "      <td>0.933238</td>\n",
       "      <td>0.892857</td>\n",
       "      <td>0.666667</td>\n",
       "    </tr>\n",
       "    <tr>\n",
       "      <th>3</th>\n",
       "      <td>20.0</td>\n",
       "      <td>0.014960</td>\n",
       "      <td>0.0</td>\n",
       "      <td>0.923813</td>\n",
       "      <td>0.914573</td>\n",
       "      <td>0.863095</td>\n",
       "      <td>0.601660</td>\n",
       "    </tr>\n",
       "    <tr>\n",
       "      <th>4</th>\n",
       "      <td>25.0</td>\n",
       "      <td>0.034906</td>\n",
       "      <td>57.0</td>\n",
       "      <td>0.971292</td>\n",
       "      <td>0.959799</td>\n",
       "      <td>0.750000</td>\n",
       "      <td>0.900000</td>\n",
       "    </tr>\n",
       "    <tr>\n",
       "      <th>5</th>\n",
       "      <td>30.0</td>\n",
       "      <td>0.032912</td>\n",
       "      <td>56.0</td>\n",
       "      <td>0.978285</td>\n",
       "      <td>0.970567</td>\n",
       "      <td>0.869048</td>\n",
       "      <td>0.884848</td>\n",
       "    </tr>\n",
       "    <tr>\n",
       "      <th>6</th>\n",
       "      <td>35.0</td>\n",
       "      <td>0.028923</td>\n",
       "      <td>53.0</td>\n",
       "      <td>0.969452</td>\n",
       "      <td>0.962670</td>\n",
       "      <td>0.791667</td>\n",
       "      <td>0.886667</td>\n",
       "    </tr>\n",
       "    <tr>\n",
       "      <th>7</th>\n",
       "      <td>40.0</td>\n",
       "      <td>0.006981</td>\n",
       "      <td>0.0</td>\n",
       "      <td>0.920132</td>\n",
       "      <td>0.904523</td>\n",
       "      <td>0.910714</td>\n",
       "      <td>0.564576</td>\n",
       "    </tr>\n",
       "    <tr>\n",
       "      <th>8</th>\n",
       "      <td>45.0</td>\n",
       "      <td>0.007978</td>\n",
       "      <td>0.0</td>\n",
       "      <td>0.935223</td>\n",
       "      <td>0.927495</td>\n",
       "      <td>0.904762</td>\n",
       "      <td>0.641350</td>\n",
       "    </tr>\n",
       "    <tr>\n",
       "      <th>9</th>\n",
       "      <td>50.0</td>\n",
       "      <td>0.022939</td>\n",
       "      <td>42.0</td>\n",
       "      <td>0.972396</td>\n",
       "      <td>0.962670</td>\n",
       "      <td>0.750000</td>\n",
       "      <td>0.926471</td>\n",
       "    </tr>\n",
       "    <tr>\n",
       "      <th>10</th>\n",
       "      <td>55.0</td>\n",
       "      <td>0.022939</td>\n",
       "      <td>43.0</td>\n",
       "      <td>0.974604</td>\n",
       "      <td>0.972721</td>\n",
       "      <td>0.839286</td>\n",
       "      <td>0.927632</td>\n",
       "    </tr>\n",
       "    <tr>\n",
       "      <th>11</th>\n",
       "      <td>60.0</td>\n",
       "      <td>0.019947</td>\n",
       "      <td>37.0</td>\n",
       "      <td>0.971292</td>\n",
       "      <td>0.963388</td>\n",
       "      <td>0.791667</td>\n",
       "      <td>0.892617</td>\n",
       "    </tr>\n",
       "    <tr>\n",
       "      <th>12</th>\n",
       "      <td>65.0</td>\n",
       "      <td>0.019947</td>\n",
       "      <td>36.0</td>\n",
       "      <td>0.972764</td>\n",
       "      <td>0.966260</td>\n",
       "      <td>0.821429</td>\n",
       "      <td>0.890323</td>\n",
       "    </tr>\n",
       "    <tr>\n",
       "      <th>13</th>\n",
       "      <td>70.0</td>\n",
       "      <td>0.019947</td>\n",
       "      <td>37.0</td>\n",
       "      <td>0.925285</td>\n",
       "      <td>0.906676</td>\n",
       "      <td>0.886905</td>\n",
       "      <td>0.573077</td>\n",
       "    </tr>\n",
       "    <tr>\n",
       "      <th>14</th>\n",
       "      <td>75.0</td>\n",
       "      <td>0.018950</td>\n",
       "      <td>39.0</td>\n",
       "      <td>0.976077</td>\n",
       "      <td>0.965542</td>\n",
       "      <td>0.827381</td>\n",
       "      <td>0.879747</td>\n",
       "    </tr>\n",
       "    <tr>\n",
       "      <th>15</th>\n",
       "      <td>80.0</td>\n",
       "      <td>0.016955</td>\n",
       "      <td>34.0</td>\n",
       "      <td>0.933750</td>\n",
       "      <td>0.912419</td>\n",
       "      <td>0.922619</td>\n",
       "      <td>0.587121</td>\n",
       "    </tr>\n",
       "    <tr>\n",
       "      <th>16</th>\n",
       "      <td>85.0</td>\n",
       "      <td>0.015957</td>\n",
       "      <td>31.0</td>\n",
       "      <td>0.972764</td>\n",
       "      <td>0.969131</td>\n",
       "      <td>0.821429</td>\n",
       "      <td>0.913907</td>\n",
       "    </tr>\n",
       "    <tr>\n",
       "      <th>17</th>\n",
       "      <td>90.0</td>\n",
       "      <td>0.003990</td>\n",
       "      <td>0.0</td>\n",
       "      <td>0.928230</td>\n",
       "      <td>0.913137</td>\n",
       "      <td>0.904762</td>\n",
       "      <td>0.591440</td>\n",
       "    </tr>\n",
       "    <tr>\n",
       "      <th>18</th>\n",
       "      <td>95.0</td>\n",
       "      <td>0.014960</td>\n",
       "      <td>26.0</td>\n",
       "      <td>0.955466</td>\n",
       "      <td>0.956210</td>\n",
       "      <td>0.696429</td>\n",
       "      <td>0.921260</td>\n",
       "    </tr>\n",
       "  </tbody>\n",
       "</table>\n",
       "</div>"
      ],
      "text/plain": [
       "    Batch_size      Time  Active Learned Data  Train Accuracy  Test Accuracy  \\\n",
       "0          5.0  0.086764                 59.0        0.974604       0.964824   \n",
       "1         10.0  0.058837                 66.0        0.976813       0.961953   \n",
       "2         15.0  0.023918                  0.0        0.939271       0.933238   \n",
       "3         20.0  0.014960                  0.0        0.923813       0.914573   \n",
       "4         25.0  0.034906                 57.0        0.971292       0.959799   \n",
       "5         30.0  0.032912                 56.0        0.978285       0.970567   \n",
       "6         35.0  0.028923                 53.0        0.969452       0.962670   \n",
       "7         40.0  0.006981                  0.0        0.920132       0.904523   \n",
       "8         45.0  0.007978                  0.0        0.935223       0.927495   \n",
       "9         50.0  0.022939                 42.0        0.972396       0.962670   \n",
       "10        55.0  0.022939                 43.0        0.974604       0.972721   \n",
       "11        60.0  0.019947                 37.0        0.971292       0.963388   \n",
       "12        65.0  0.019947                 36.0        0.972764       0.966260   \n",
       "13        70.0  0.019947                 37.0        0.925285       0.906676   \n",
       "14        75.0  0.018950                 39.0        0.976077       0.965542   \n",
       "15        80.0  0.016955                 34.0        0.933750       0.912419   \n",
       "16        85.0  0.015957                 31.0        0.972764       0.969131   \n",
       "17        90.0  0.003990                  0.0        0.928230       0.913137   \n",
       "18        95.0  0.014960                 26.0        0.955466       0.956210   \n",
       "\n",
       "    Test Recall  Test Precision  \n",
       "0      0.761905        0.934307  \n",
       "1      0.821429        0.857143  \n",
       "2      0.892857        0.666667  \n",
       "3      0.863095        0.601660  \n",
       "4      0.750000        0.900000  \n",
       "5      0.869048        0.884848  \n",
       "6      0.791667        0.886667  \n",
       "7      0.910714        0.564576  \n",
       "8      0.904762        0.641350  \n",
       "9      0.750000        0.926471  \n",
       "10     0.839286        0.927632  \n",
       "11     0.791667        0.892617  \n",
       "12     0.821429        0.890323  \n",
       "13     0.886905        0.573077  \n",
       "14     0.827381        0.879747  \n",
       "15     0.922619        0.587121  \n",
       "16     0.821429        0.913907  \n",
       "17     0.904762        0.591440  \n",
       "18     0.696429        0.921260  "
      ]
     },
     "execution_count": 24,
     "metadata": {},
     "output_type": "execute_result"
    }
   ],
   "source": [
    "matrix = np.matrix(np.c_[batch_size, time_vect,rows_vect, score_train, score_test, recall_test, precision_test])\n",
    "models = pd.DataFrame(data = matrix, columns = \n",
    "             ['Batch_size','Time','Active Learned Data','Train Accuracy', 'Test Accuracy', 'Test Recall', 'Test Precision'])\n",
    "models.head(n=20)"
   ]
  },
  {
   "cell_type": "markdown",
   "metadata": {},
   "source": [
    "We can see that the best batch size seems to be between 25 to 35. We can pick one depending on the aim of the project."
   ]
  },
  {
   "cell_type": "markdown",
   "metadata": {},
   "source": [
    "TODO:\n",
    "a) Test on other seeds.\n",
    "b) Consider using TFIDF\n",
    "c) Write some argument for why the active learning one is better + features\n",
    "d) Show a plot of change in accuracy of model test data after each batch. Check how long it takes for convergence. ***IMPORTANT\n",
    "\n",
    "Answers\n",
    "c) The idea behind batch size active learning is that a person will not receive thousands of SMS every day. The batches simulate each \"day\" or time period that the algorithm is learning. The starting train size is akin to a package of spam and ham messages to initially train the model.\n",
    "The amount of actively learned data as we subsequently train has a similar meaning to how much more information the algorithm needs to tune it to a specific person because individuals can receive different forms of messages. This can be used to deal with targeted advertising spam messages. A low actively learned data that is non-zero means the algorithm has gained good classification ability quickly.\n",
    "\n",
    "Also, if the model can start off with a small set of training data, the number of parameters need for the model is low and that can mean lower storage and memory requirements. \n"
   ]
  },
  {
   "cell_type": "code",
   "execution_count": 41,
   "metadata": {},
   "outputs": [
    {
     "data": {
      "text/plain": [
       "array([ 0.96482412,  0.96195262,  0.93323762,  0.91457286,  0.95979899,\n",
       "        0.97056712,  0.9626705 ,  0.90452261,  0.92749462,  0.9626705 ,\n",
       "        0.97272075,  0.96338837,  0.96625987,  0.90667624,  0.965542  ,\n",
       "        0.91241924,  0.96913137,  0.91313711,  0.95620962])"
      ]
     },
     "execution_count": 41,
     "metadata": {},
     "output_type": "execute_result"
    }
   ],
   "source": [
    "score_test"
   ]
  },
  {
   "cell_type": "code",
   "execution_count": 44,
   "metadata": {},
   "outputs": [
    {
     "data": {
      "text/plain": [
       "Text(0.5,0,'Batch size')"
      ]
     },
     "execution_count": 44,
     "metadata": {},
     "output_type": "execute_result"
    },
    {
     "data": {
      "image/png": "[encoded data removed]",
      "text/plain": [
       "<matplotlib.figure.Figure at 0x15df6e12630>"
      ]
     },
     "metadata": {},
     "output_type": "display_data"
    }
   ],
   "source": [
    "plt.plot(score_test,label=\"accuracy\")\n",
    "plt.plot(recall_test,label=\"recall\")\n",
    "plt.plot(precision_test,label=\"precision\")\n",
    "plt.legend()\n",
    "plt.ylabel(\"Accuracy on test dataset\")\n",
    "plt.xlabel(\"Batch size\")"
   ]
  },
  {
   "cell_type": "markdown",
   "metadata": {},
   "source": [
    "The graph shows that batch size does not truly matter in this case. The final accuracy really only depends on the svm's active learning. The high fluctuation in precision observed is due to noise in the dataset, which makes it hard for the svm to tell spam from ham. However, recall values can reach 0.9, meaning we accurately determine ham messages 90% of the time. I believe this value is acceptable because of the content in sms messages. Important information will probably be sent on more secure channels such as email, so incorrectly profiling some ham messages as spam is acceptable.\n",
    "\n",
    "Based on the information above, we pick a batch size of 30, as we feel it is a good estimate for how many SMSes a person can receive in a time period of a day while still maintaining an acceptable accuracy, precision and recall."
   ]
  },
  {
   "cell_type": "code",
   "execution_count": 81,
   "metadata": {},
   "outputs": [],
   "source": [
    "# train size 0.35, batch size =30\n",
    "# code inactive learning, track accuracy.\n",
    "# Helper Functions\n",
    "def closest_to_centre2(X_arr,model):\n",
    "    \"\"\"\n",
    "    Input: X_array of batch\n",
    "    Output: index/indices of row of batch closest to centre. -1 if there is no such index\n",
    "    \"\"\"\n",
    "    learning = False\n",
    "    values = model.decision_function(X_arr)\n",
    "    index = np.where((values>-1)&(values<1)) #if its outside of range, it will be properly classified\n",
    "    if np.array(index).size==0:\n",
    "        return np.array([]),learning\n",
    "    learning =  True\n",
    "    which_minAbs = np.where(np.abs(values[index])==np.min(np.abs(values[index])))\n",
    "    return index[0][which_minAbs], learning\n",
    "\n",
    "def batch_learn2(X_test2,y_test2,X_test,y_test,model,batch_size):\n",
    "    \"\"\"\n",
    "    Input: X_array of the rest of the full train data. Test Data.\n",
    "    Output: Model after training w/ active learning. Some count on how much data was used. \n",
    "    The accuracy array stores accuracy of the model over test data as active learnign happens.\n",
    "    \"\"\"\n",
    "    count = 0\n",
    "    rows_used = 0\n",
    "    time_start = time.time()\n",
    "    accuracy = []\n",
    "    recall = []\n",
    "    precision = []\n",
    "    while (count<X_test2.shape[0]):\n",
    "        tail = np.min([X_test2.shape[0],count+batch_size])\n",
    "        X_arr = X_test2[count:tail]\n",
    "        y_arr = y_test2[count:tail]\n",
    "        closest_index,learning = closest_to_centre2(X_arr,model)\n",
    "        model = active_learn(X_arr,y_arr,closest_index,model)\n",
    "        rows_used+=closest_index.size\n",
    "        count += batch_size\n",
    "        #if learning == True:\n",
    "        accuracy.append(model.score(X_test,y_test))\n",
    "        recall.append(metrics.recall_score(y_test, model.predict(X_test)))\n",
    "        precision.append(metrics.precision_score(y_test, model.predict(X_test)))\n",
    "    time_end = time.time()\n",
    "    time_taken = time_end-time_start\n",
    "    return model,rows_used,time_taken,accuracy,recall,precision"
   ]
  },
  {
   "cell_type": "code",
   "execution_count": 82,
   "metadata": {},
   "outputs": [],
   "source": [
    "np.random.seed(123)\n",
    "batch = 30\n",
    "X_train, X_test, y_train, y_test = model_selection.train_test_split(spam_df[\"message\"],\n",
    "                                                                    np.array(spam_df[\"class\"]),\n",
    "                                                                    test_size=0.25, random_state= 15)\n",
    "X_train2, X_test2, y_train2, y_test2 = model_selection.train_test_split(X_train, y_train, test_size=0.65, random_state=15)\n",
    "f = feature_extraction.text.CountVectorizer(stop_words = 'english')\n",
    "vocab_dict = f.fit(X_train2)\n",
    "X_train2 = f.transform(X_train2)  \n",
    "X_test2 = f.transform(X_test2)    \n",
    "X_test = f.transform(X_test)      \n",
    "base_svm = linear_model.SGDClassifier(loss=\"hinge\",penalty=\"l2\",max_iter=1) \n",
    "base_svm.fit(X_train2,y_train2)\n",
    "final_svm,r,t,active_acc,active_recall,active_precision = batch_learn2(X_test2,y_test2,X_test,y_test,base_svm,batch)"
   ]
  },
  {
   "cell_type": "code",
   "execution_count": 84,
   "metadata": {},
   "outputs": [
    {
     "data": {
      "image/png": "[encoded data removed]",
      "text/plain": [
       "<matplotlib.figure.Figure at 0x15df75f5d30>"
      ]
     },
     "metadata": {},
     "output_type": "display_data"
    }
   ],
   "source": [
    "plt.plot(active_acc, label =\"accuracy\")\n",
    "plt.plot(active_recall,label = \"recall\")\n",
    "plt.plot(active_precision, label = \"precision\")\n",
    "plt.xlabel(\"Batches\")\n",
    "plt.legend()\n",
    "plt.show()"
   ]
  },
  {
   "cell_type": "code",
   "execution_count": 93,
   "metadata": {},
   "outputs": [],
   "source": [
    "np.random.seed(458)\n",
    "batch = 30\n",
    "X_train, X_test, y_train, y_test = model_selection.train_test_split(spam_df[\"message\"],\n",
    "                                                                    np.array(spam_df[\"class\"]),\n",
    "                                                                    test_size=0.25, random_state= 15)\n",
    "X_train2, X_test2, y_train2, y_test2 = model_selection.train_test_split(X_train, y_train, test_size=0.65, random_state=15)\n",
    "f = feature_extraction.text.CountVectorizer(stop_words = 'english')\n",
    "vocab_dict = f.fit(X_train2)\n",
    "X_train2 = f.transform(X_train2)  \n",
    "X_test2 = f.transform(X_test2)    \n",
    "X_test = f.transform(X_test)      \n",
    "base_svm = linear_model.SGDClassifier(loss=\"hinge\",penalty=\"l2\",max_iter=1) \n",
    "base_svm.fit(X_train2,y_train2)\n",
    "final_svm,r,t,active_acc,active_recall,active_precision = batch_learn2(X_test2,y_test2,X_test,y_test,base_svm,batch)"
   ]
  },
  {
   "cell_type": "code",
   "execution_count": 94,
   "metadata": {},
   "outputs": [
    {
     "data": {
      "image/png": "[encoded data removed]",
      "text/plain": [
       "<matplotlib.figure.Figure at 0x15df6625390>"
      ]
     },
     "metadata": {},
     "output_type": "display_data"
    }
   ],
   "source": [
    "plt.plot(active_acc, label =\"accuracy\")\n",
    "plt.plot(active_recall,label = \"recall\")\n",
    "plt.plot(active_precision, label = \"precision\")\n",
    "plt.xlabel(\"Batches\")\n",
    "plt.legend()\n",
    "plt.show()"
   ]
  },
  {
   "cell_type": "code",
   "execution_count": 85,
   "metadata": {},
   "outputs": [],
   "source": [
    "np.random.seed(246)\n",
    "batch = 30\n",
    "X_train, X_test, y_train, y_test = model_selection.train_test_split(spam_df[\"message\"],\n",
    "                                                                    np.array(spam_df[\"class\"]),\n",
    "                                                                    test_size=0.25, random_state= 15)\n",
    "X_train2, X_test2, y_train2, y_test2 = model_selection.train_test_split(X_train, y_train, test_size=0.65, random_state=15)\n",
    "f = feature_extraction.text.CountVectorizer(stop_words = 'english')\n",
    "vocab_dict = f.fit(X_train2)\n",
    "X_train2 = f.transform(X_train2)  \n",
    "X_test2 = f.transform(X_test2)    \n",
    "X_test = f.transform(X_test)      \n",
    "base_svm = linear_model.SGDClassifier(loss=\"hinge\",penalty=\"l2\",max_iter=1) \n",
    "base_svm.fit(X_train2,y_train2)\n",
    "final_svm,r,t,active_acc,active_recall,active_precision = batch_learn2(X_test2,y_test2,X_test,y_test,base_svm,batch)"
   ]
  },
  {
   "cell_type": "code",
   "execution_count": 86,
   "metadata": {},
   "outputs": [
    {
     "data": {
      "image/png": "[encoded data removed]",
      "text/plain": [
       "<matplotlib.figure.Figure at 0x15df7176da0>"
      ]
     },
     "metadata": {},
     "output_type": "display_data"
    }
   ],
   "source": [
    "plt.plot(active_acc, label =\"accuracy\")\n",
    "plt.plot(active_recall,label = \"recall\")\n",
    "plt.plot(active_precision, label = \"precision\")\n",
    "plt.xlabel(\"Batches\")\n",
    "plt.legend()\n",
    "plt.show()"
   ]
  },
  {
   "cell_type": "code",
   "execution_count": 95,
   "metadata": {},
   "outputs": [],
   "source": [
    "np.random.seed(1035)\n",
    "batch = 30\n",
    "X_train, X_test, y_train, y_test = model_selection.train_test_split(spam_df[\"message\"],\n",
    "                                                                    np.array(spam_df[\"class\"]),\n",
    "                                                                    test_size=0.25, random_state= 15)\n",
    "X_train2, X_test2, y_train2, y_test2 = model_selection.train_test_split(X_train, y_train, test_size=0.65, random_state=15)\n",
    "f = feature_extraction.text.CountVectorizer(stop_words = 'english')\n",
    "vocab_dict = f.fit(X_train2)\n",
    "X_train2 = f.transform(X_train2)  \n",
    "X_test2 = f.transform(X_test2)    \n",
    "X_test = f.transform(X_test)      \n",
    "base_svm = linear_model.SGDClassifier(loss=\"hinge\",penalty=\"l2\",max_iter=1) \n",
    "base_svm.fit(X_train2,y_train2)\n",
    "final_svm,r,t,active_acc,active_recall,active_precision = batch_learn2(X_test2,y_test2,X_test,y_test,base_svm,batch)"
   ]
  },
  {
   "cell_type": "code",
   "execution_count": 96,
   "metadata": {},
   "outputs": [
    {
     "data": {
      "image/png": "[encoded data removed]",
      "text/plain": [
       "<matplotlib.figure.Figure at 0x15df4f72048>"
      ]
     },
     "metadata": {},
     "output_type": "display_data"
    }
   ],
   "source": [
    "plt.plot(active_acc, label =\"accuracy\")\n",
    "plt.plot(active_recall,label = \"recall\")\n",
    "plt.plot(active_precision, label = \"precision\")\n",
    "plt.xlabel(\"Batches\")\n",
    "plt.legend()\n",
    "plt.show()"
   ]
  },
  {
   "cell_type": "markdown",
   "metadata": {},
   "source": [
    "The graphs above show the metrics for accuracy, recall and precision for the model as it does active learning. The model has been initially trained on a base set consiting of 1462 rows. We then feed it batches of 30 messages until the training set is depleted.\n",
    "\n",
    "On the graph, we can see strecthes where the metrics are a flat line. This can mean that either no active learning occurs. We can see that as the number of batches increases, accuracy and precision increases, while recall takes a slight dip. This is expected because as the svm trains itself to classify spam better, it will begin to also misclassify some ham messages as spam due to the noisy nature of SMS messages. This is because the svm we designed has fewer parameters and the parameters required to accurately classify may be out of its current parameter space.\n",
    "\n",
    "Based on the above graphs we can see that the number of batches required for the svm to reach 80% precision and recall varies quite a lot. This is expected since in the real world, different people will receive different types of messages. It can take 20 to 80 batches, so if each batch took a day, it can take from 3 weeks to 2.5 months for the tuning to be optimal. What we can guarantee is that precision in identifying spam messages will increase at the end of the training.\n",
    "\n",
    "Possible discussion point: Let the app have an internal cutoff for the algorithm of say 30 batches (30 days). If the misclass rate is not acceptable e.g. user flags some misclassification, the agorithm will restart for another 10 batches.\n"
   ]
  },
  {
   "cell_type": "markdown",
   "metadata": {},
   "source": [
    "Below is a similar set of plots, but it only describes metrics when no learning occcurs. NOTE: THIS IS JUST IN CASE THE PLOTS ABOVE NOT AS INFORMATIVE. "
   ]
  },
  {
   "cell_type": "code",
   "execution_count": 88,
   "metadata": {},
   "outputs": [],
   "source": [
    "# train size 0.35, batch size =30\n",
    "# code inactive learning, track accuracy.\n",
    "# Helper Functions\n",
    "def batch_learn3(X_test2,y_test2,X_test,y_test,model,batch_size):\n",
    "    \"\"\"\n",
    "    Input: X_array of the rest of the full train data. Test Data.\n",
    "    Output: Model after training w/ active learning. Some count on how much data was used. \n",
    "    The accuracy array stores accuracy of the model over test data as active learnign happens.\n",
    "    \"\"\"\n",
    "    count = 0\n",
    "    rows_used = 0\n",
    "    time_start = time.time()\n",
    "    accuracy = []\n",
    "    recall = []\n",
    "    precision = []\n",
    "    while (count<X_test2.shape[0]):\n",
    "        tail = np.min([X_test2.shape[0],count+batch_size])\n",
    "        X_arr = X_test2[count:tail]\n",
    "        y_arr = y_test2[count:tail]\n",
    "        closest_index,learning = closest_to_centre2(X_arr,model)\n",
    "        model = active_learn(X_arr,y_arr,closest_index,model)\n",
    "        rows_used+=closest_index.size\n",
    "        count += batch_size\n",
    "        if learning == True:\n",
    "            accuracy.append(model.score(X_test,y_test))\n",
    "            recall.append(metrics.recall_score(y_test, model.predict(X_test)))\n",
    "            precision.append(metrics.precision_score(y_test, model.predict(X_test)))\n",
    "    time_end = time.time()\n",
    "    time_taken = time_end-time_start\n",
    "    return model,rows_used,time_taken,accuracy,recall,precision"
   ]
  },
  {
   "cell_type": "code",
   "execution_count": 89,
   "metadata": {},
   "outputs": [],
   "source": [
    "np.random.seed(123)\n",
    "batch = 30\n",
    "X_train, X_test, y_train, y_test = model_selection.train_test_split(spam_df[\"message\"],\n",
    "                                                                    np.array(spam_df[\"class\"]),\n",
    "                                                                    test_size=0.25, random_state= 15)\n",
    "X_train2, X_test2, y_train2, y_test2 = model_selection.train_test_split(X_train, y_train, test_size=0.65, random_state=15)\n",
    "f = feature_extraction.text.CountVectorizer(stop_words = 'english')\n",
    "vocab_dict = f.fit(X_train2)\n",
    "X_train2 = f.transform(X_train2)  \n",
    "X_test2 = f.transform(X_test2)    \n",
    "X_test = f.transform(X_test)      \n",
    "base_svm = linear_model.SGDClassifier(loss=\"hinge\",penalty=\"l2\",max_iter=1) \n",
    "base_svm.fit(X_train2,y_train2)\n",
    "final_svm,r,t,active_acc,active_recall,active_precision = batch_learn3(X_test2,y_test2,X_test,y_test,base_svm,batch)"
   ]
  },
  {
   "cell_type": "code",
   "execution_count": 90,
   "metadata": {},
   "outputs": [
    {
     "data": {
      "image/png": "[encoded data removed]",
      "text/plain": [
       "<matplotlib.figure.Figure at 0x15df7ad2b38>"
      ]
     },
     "metadata": {},
     "output_type": "display_data"
    }
   ],
   "source": [
    "plt.plot(active_acc, label =\"accuracy\")\n",
    "plt.plot(active_recall,label = \"recall\")\n",
    "plt.plot(active_precision, label = \"precision\")\n",
    "plt.xlabel(\"Active Learning\")\n",
    "plt.legend()\n",
    "plt.show()"
   ]
  },
  {
   "cell_type": "code",
   "execution_count": 91,
   "metadata": {},
   "outputs": [],
   "source": [
    "np.random.seed(246)\n",
    "batch = 30\n",
    "X_train, X_test, y_train, y_test = model_selection.train_test_split(spam_df[\"message\"],\n",
    "                                                                    np.array(spam_df[\"class\"]),\n",
    "                                                                    test_size=0.25, random_state= 15)\n",
    "X_train2, X_test2, y_train2, y_test2 = model_selection.train_test_split(X_train, y_train, test_size=0.65, random_state=15)\n",
    "f = feature_extraction.text.CountVectorizer(stop_words = 'english')\n",
    "vocab_dict = f.fit(X_train2)\n",
    "X_train2 = f.transform(X_train2)  \n",
    "X_test2 = f.transform(X_test2)    \n",
    "X_test = f.transform(X_test)      \n",
    "base_svm = linear_model.SGDClassifier(loss=\"hinge\",penalty=\"l2\",max_iter=1) \n",
    "base_svm.fit(X_train2,y_train2)\n",
    "final_svm,r,t,active_acc,active_recall,active_precision = batch_learn3(X_test2,y_test2,X_test,y_test,base_svm,batch)"
   ]
  },
  {
   "cell_type": "code",
   "execution_count": 92,
   "metadata": {},
   "outputs": [
    {
     "data": {
      "image/png": "[encoded data removed]",
      "text/plain": [
       "<matplotlib.figure.Figure at 0x15df7a45860>"
      ]
     },
     "metadata": {},
     "output_type": "display_data"
    }
   ],
   "source": [
    "plt.plot(active_acc, label =\"accuracy\")\n",
    "plt.plot(active_recall,label = \"recall\")\n",
    "plt.plot(active_precision, label = \"precision\")\n",
    "plt.xlabel(\"Active Learning\")\n",
    "plt.legend()\n",
    "plt.show()"
   ]
  }
 ],
 "metadata": {
  "kernelspec": {
   "display_name": "Python 3",
   "language": "python",
   "name": "python3"
  },
  "language_info": {
   "codemirror_mode": {
    "name": "ipython",
    "version": 3
   },
   "file_extension": ".py",
   "mimetype": "text/x-python",
   "name": "python",
   "nbconvert_exporter": "python",
   "pygments_lexer": "ipython3",
   "version": "3.6.4"
  }
 },
 "nbformat": 4,
 "nbformat_minor": 2
}
